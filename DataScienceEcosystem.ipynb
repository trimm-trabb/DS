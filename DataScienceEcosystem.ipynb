{
  "nbformat": 4,
  "nbformat_minor": 0,
  "metadata": {
    "colab": {
      "provenance": []
    },
    "kernelspec": {
      "name": "python3",
      "display_name": "Python 3"
    },
    "language_info": {
      "name": "python"
    }
  },
  "cells": [
    {
      "cell_type": "markdown",
      "source": [
        "#Data Science Tools and Ecosystem\n",
        ""
      ],
      "metadata": {
        "id": "r4m62T0LYfaP"
      }
    },
    {
      "cell_type": "markdown",
      "source": [
        "In this notebook, Data Science Tools and Ecosystem are summarized."
      ],
      "metadata": {
        "id": "AkaWyMoVY0vH"
      }
    },
    {
      "cell_type": "markdown",
      "source": [
        "Some of the popular languages that Data Scientists use are:\n",
        "\n",
        "1.   Python\n",
        "2.   R\n",
        "3.   SQL\n",
        "\n",
        "\n",
        "\n",
        "\n",
        "\n",
        "\n"
      ],
      "metadata": {
        "id": "laWv6N8YY-Im"
      }
    },
    {
      "cell_type": "markdown",
      "source": [
        "Some of the commonly used libraries used by Data Scientists include:\n",
        "\n",
        "1.   Seaborn\n",
        "2.   NumPy\n",
        "3.   Pandas\n",
        "4.   PyTorch\n"
      ],
      "metadata": {
        "id": "ZUjTSIqxZjSZ"
      }
    },
    {
      "cell_type": "markdown",
      "source": [
        "Data Science Tools |\n",
        "-------------------|\n",
        "Jupyter Notebooks  |\n",
        "RStudio            |\n",
        "VS Code            |"
      ],
      "metadata": {
        "id": "ZTkDRtMvaF0z"
      }
    },
    {
      "cell_type": "markdown",
      "source": [
        "Below are a few examples of evaluating arithmetic expressions in Python."
      ],
      "metadata": {
        "id": "jWfeKdOWbipM"
      }
    },
    {
      "cell_type": "code",
      "source": [
        "# This a simple arithmetic expression to mutiply then add integers\n",
        "(3*4)+5"
      ],
      "metadata": {
        "colab": {
          "base_uri": "https://localhost:8080/"
        },
        "id": "KsdO_4v-bvYT",
        "outputId": "e71827aa-1e02-43fc-a3c8-1deccf0a7fca"
      },
      "execution_count": 2,
      "outputs": [
        {
          "output_type": "execute_result",
          "data": {
            "text/plain": [
              "17"
            ]
          },
          "metadata": {},
          "execution_count": 2
        }
      ]
    },
    {
      "cell_type": "code",
      "source": [
        "# This will convert 200 minutes to hours by diving by 60\n",
        "200 / 60"
      ],
      "metadata": {
        "colab": {
          "base_uri": "https://localhost:8080/"
        },
        "id": "fsAfRtXjcISy",
        "outputId": "a9294366-88a5-4cbb-a3f8-29389dc5365c"
      },
      "execution_count": 3,
      "outputs": [
        {
          "output_type": "execute_result",
          "data": {
            "text/plain": [
              "3.3333333333333335"
            ]
          },
          "metadata": {},
          "execution_count": 3
        }
      ]
    },
    {
      "cell_type": "markdown",
      "source": [
        "**Objectives:**\n",
        "\n",
        "\n",
        "*   List popular languages for Data Science\n",
        "*   List libraries for Data Science\n",
        "*   List open source tools for Data Science\n",
        "*   Show examples of arithmetic expressions in Python\n",
        "\n"
      ],
      "metadata": {
        "id": "PdPs5ThPcVP9"
      }
    },
    {
      "cell_type": "markdown",
      "source": [
        "## Author\n",
        "Anastasiia Khartynova"
      ],
      "metadata": {
        "id": "TXZb8Afcc5xt"
      }
    }
  ]
}